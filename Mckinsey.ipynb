{
 "cells": [
  {
   "cell_type": "markdown",
   "metadata": {},
   "source": [
    "## Mckinsey Hiring Challenge \n",
    "### Private Leaderboard rank: 13 (top 6%)\n",
    "#### Solution"
   ]
  },
  {
   "cell_type": "code",
   "execution_count": 2,
   "metadata": {
    "collapsed": true
   },
   "outputs": [],
   "source": [
    "import pandas as pd\n",
    "import numpy as np\n",
    "import matplotlib.pyplot as plt\n",
    "\n",
    "%matplotlib inline"
   ]
  },
  {
   "cell_type": "code",
   "execution_count": 6,
   "metadata": {
    "collapsed": true
   },
   "outputs": [],
   "source": [
    "import xgboost as xgb"
   ]
  },
  {
   "cell_type": "code",
   "execution_count": 5,
   "metadata": {
    "collapsed": true
   },
   "outputs": [],
   "source": [
    "import pandas as pd\n",
    "import numpy as np\n",
    "import matplotlib.pyplot as plt\n",
    "import xgboost as xgb\n",
    "from sklearn import preprocessing\n",
    "# get bnp & test csv files as a DataFrame\n",
    "train_df   = pd.read_csv('/home/rishikesh/Dev/Python/Mckinsey/train.csv')\n",
    "test_df  = pd.read_csv('/home/rishikesh/Dev/Python/Mckinsey/test.csv')"
   ]
  },
  {
   "cell_type": "code",
   "execution_count": 7,
   "metadata": {
    "collapsed": false
   },
   "outputs": [
    {
     "name": "stderr",
     "output_type": "stream",
     "text": [
      "/home/rishikesh/anaconda3/lib/python3.5/site-packages/ipykernel/__main__.py:41: SettingWithCopyWarning: \n",
      "A value is trying to be set on a copy of a slice from a DataFrame\n",
      "\n",
      "See the caveats in the documentation: http://pandas.pydata.org/pandas-docs/stable/indexing.html#indexing-view-versus-copy\n",
      "/home/rishikesh/anaconda3/lib/python3.5/site-packages/ipykernel/__main__.py:42: SettingWithCopyWarning: \n",
      "A value is trying to be set on a copy of a slice from a DataFrame\n",
      "\n",
      "See the caveats in the documentation: http://pandas.pydata.org/pandas-docs/stable/indexing.html#indexing-view-versus-copy\n"
     ]
    }
   ],
   "source": [
    "# preview the data\n",
    "train_df.head()\n",
    "test_df[\"Email_ID\"].head()\n",
    "test_df[\"Email_ID\"].head()\n",
    "\t\n",
    "\n",
    "mctrain=test_df\n",
    "\n",
    "\n",
    "for feat in train_df.columns:\n",
    "    if train_df[feat].dtype == 'object':\n",
    "        lbl = preprocessing.LabelEncoder()\n",
    "        lbl.fit(np.unique(list(train_df[feat].values) + list(test_df[feat].values)))\n",
    "        train_df[feat]   = lbl.transform(list(train_df[feat].values))\n",
    "        test_df[feat]  = lbl.transform(list(test_df[feat].values))\n",
    "\n",
    "# remove constant columns\n",
    "remove = []\n",
    "for col in train_df.columns:\n",
    "    if train_df[col].std() == 0:\n",
    "        remove.append(col)\n",
    "\n",
    "train_df.drop(remove, axis=1, inplace=True)\n",
    "test_df.drop(remove, axis=1, inplace=True)\n",
    "\n",
    "# remove duplicated columns\n",
    "remove = []\n",
    "c = train_df.columns\n",
    "for i in range(len(c)-1):\n",
    "    v = train_df[c[i]].values\n",
    "    for j in range(i+1,len(c)):\n",
    "        if np.array_equal(v,train_df[c[j]].values):\n",
    "            remove.append(c[j])\n",
    "\n",
    "train_df.drop(remove, axis=1, inplace=True)\n",
    "test_df.drop(remove, axis=1, inplace=True)\n",
    "\n",
    "\n",
    "for feat in train_df.columns:\n",
    "    if train_df[feat].dtype == 'float64':\n",
    "        train_df[feat][np.isnan(train_df[feat])] = train_df[feat].mean()\n",
    "        test_df[feat][np.isnan(test_df[feat])] = test_df[feat].mean()\n",
    "      \n",
    "    elif train_df[feat].dtype == 'object':\n",
    "        train_df[feat][train_df[feat] != train_df[feat]] = train_df[feat].value_counts().index[0]\n",
    "        test_df[feat][test_df[feat] != test_df[feat]] = test_df[feat].value_counts().index[0]\n"
   ]
  },
  {
   "cell_type": "code",
   "execution_count": 6,
   "metadata": {
    "collapsed": false
   },
   "outputs": [
    {
     "data": {
      "text/html": [
       "<div>\n",
       "<table border=\"1\" class=\"dataframe\">\n",
       "  <thead>\n",
       "    <tr style=\"text-align: right;\">\n",
       "      <th></th>\n",
       "      <th>Email_ID</th>\n",
       "      <th>Email_Type</th>\n",
       "      <th>Subject_Hotness_Score</th>\n",
       "      <th>Email_Source_Type</th>\n",
       "      <th>Customer_Location</th>\n",
       "      <th>Email_Campaign_Type</th>\n",
       "      <th>Total_Past_Communications</th>\n",
       "      <th>Time_Email_sent_Category</th>\n",
       "      <th>Word_Count</th>\n",
       "      <th>Total_Links</th>\n",
       "      <th>Total_Images</th>\n",
       "      <th>Email_Status</th>\n",
       "    </tr>\n",
       "  </thead>\n",
       "  <tbody>\n",
       "    <tr>\n",
       "      <th>0</th>\n",
       "      <td>0</td>\n",
       "      <td>1</td>\n",
       "      <td>2.2</td>\n",
       "      <td>2</td>\n",
       "      <td>4</td>\n",
       "      <td>2</td>\n",
       "      <td>33.0</td>\n",
       "      <td>1</td>\n",
       "      <td>440</td>\n",
       "      <td>8.0</td>\n",
       "      <td>0.0</td>\n",
       "      <td>0</td>\n",
       "    </tr>\n",
       "    <tr>\n",
       "      <th>1</th>\n",
       "      <td>1</td>\n",
       "      <td>2</td>\n",
       "      <td>2.1</td>\n",
       "      <td>1</td>\n",
       "      <td>8</td>\n",
       "      <td>2</td>\n",
       "      <td>15.0</td>\n",
       "      <td>2</td>\n",
       "      <td>504</td>\n",
       "      <td>5.0</td>\n",
       "      <td>0.0</td>\n",
       "      <td>0</td>\n",
       "    </tr>\n",
       "    <tr>\n",
       "      <th>2</th>\n",
       "      <td>2</td>\n",
       "      <td>2</td>\n",
       "      <td>0.1</td>\n",
       "      <td>1</td>\n",
       "      <td>1</td>\n",
       "      <td>3</td>\n",
       "      <td>36.0</td>\n",
       "      <td>2</td>\n",
       "      <td>962</td>\n",
       "      <td>5.0</td>\n",
       "      <td>0.0</td>\n",
       "      <td>1</td>\n",
       "    </tr>\n",
       "    <tr>\n",
       "      <th>3</th>\n",
       "      <td>3</td>\n",
       "      <td>1</td>\n",
       "      <td>3.0</td>\n",
       "      <td>2</td>\n",
       "      <td>4</td>\n",
       "      <td>2</td>\n",
       "      <td>25.0</td>\n",
       "      <td>2</td>\n",
       "      <td>610</td>\n",
       "      <td>16.0</td>\n",
       "      <td>0.0</td>\n",
       "      <td>0</td>\n",
       "    </tr>\n",
       "    <tr>\n",
       "      <th>4</th>\n",
       "      <td>4</td>\n",
       "      <td>1</td>\n",
       "      <td>0.0</td>\n",
       "      <td>2</td>\n",
       "      <td>2</td>\n",
       "      <td>3</td>\n",
       "      <td>18.0</td>\n",
       "      <td>2</td>\n",
       "      <td>947</td>\n",
       "      <td>4.0</td>\n",
       "      <td>0.0</td>\n",
       "      <td>0</td>\n",
       "    </tr>\n",
       "  </tbody>\n",
       "</table>\n",
       "</div>"
      ],
      "text/plain": [
       "   Email_ID  Email_Type  Subject_Hotness_Score  Email_Source_Type  \\\n",
       "0         0           1                    2.2                  2   \n",
       "1         1           2                    2.1                  1   \n",
       "2         2           2                    0.1                  1   \n",
       "3         3           1                    3.0                  2   \n",
       "4         4           1                    0.0                  2   \n",
       "\n",
       "   Customer_Location  Email_Campaign_Type  Total_Past_Communications  \\\n",
       "0                  4                    2                       33.0   \n",
       "1                  8                    2                       15.0   \n",
       "2                  1                    3                       36.0   \n",
       "3                  4                    2                       25.0   \n",
       "4                  2                    3                       18.0   \n",
       "\n",
       "   Time_Email_sent_Category  Word_Count  Total_Links  Total_Images  \\\n",
       "0                         1         440          8.0           0.0   \n",
       "1                         2         504          5.0           0.0   \n",
       "2                         2         962          5.0           0.0   \n",
       "3                         2         610         16.0           0.0   \n",
       "4                         2         947          4.0           0.0   \n",
       "\n",
       "   Email_Status  \n",
       "0             0  \n",
       "1             0  \n",
       "2             1  \n",
       "3             0  \n",
       "4             0  "
      ]
     },
     "execution_count": 6,
     "metadata": {},
     "output_type": "execute_result"
    }
   ],
   "source": [
    "X_train = train_df.drop([\"Email_Status\",\"Email_ID\"],axis=1)\n",
    "Y_train = train_df[\"Email_Status\"]\n",
    "X_test  = test_df.drop(\"Email_ID\",axis=1).copy()\n",
    "\n",
    "xgtrain = xgb.DMatrix(X_train,Y_train)\n",
    "xgtest = xgb.DMatrix(X_test)\n",
    "\n",
    "# preview the data\n",
    "train_df.head()\n"
   ]
  },
  {
   "cell_type": "code",
   "execution_count": 9,
   "metadata": {
    "collapsed": true
   },
   "outputs": [],
   "source": [
    "xgboost_params = { \"objective\":\"multi:softmax\",    # binary classification \n",
    "              \"num_class\" :3,    # number of classes \n",
    "              \"eval_metric\" : \"merror\",    # evaluation metric \n",
    "              \"nthread\" : 4,   # number of threads to be used \n",
    "              \"max_depth\": 5,    # maximum depth of tree \n",
    "              \"eta\" : 0.15\n",
    "                  }\n",
    "                  \n",
    "num_round = 111               \n",
    "                  \n"
   ]
  },
  {
   "cell_type": "code",
   "execution_count": 10,
   "metadata": {
    "collapsed": false
   },
   "outputs": [],
   "source": [
    "best = xgb.cv(xgboost_params, xgtrain, num_round,nfold=5)    \n",
    "\n",
    "best[\"test-merror-mean\"].min()         \n",
    "# get prediction\n",
    "\n",
    "xgtest.num_row()\n",
    "                  \n",
    "\n",
    "bst = xgb.train(xgboost_params, xgtrain, num_round);\n"
   ]
  },
  {
   "cell_type": "code",
   "execution_count": 12,
   "metadata": {
    "collapsed": false
   },
   "outputs": [],
   "source": [
    "# get prediction\n",
    "pred = bst.predict(xgtest);\n",
    "xgtest.num_row()\n",
    "\n",
    "test_df  = pd.read_csv('/home/rishikesh/Dev/Python/Mckinsey/test.csv')\n",
    "submission = pd.DataFrame()\n",
    "submission[\"Email_ID\"] = test_df[\"Email_ID\"]\n",
    "submission[\"Email_Status\"] = pred\n",
    "\n",
    "submission.to_csv('mckinsey.csv', index=False)"
   ]
  },
  {
   "cell_type": "code",
   "execution_count": 15,
   "metadata": {
    "collapsed": true
   },
   "outputs": [],
   "source": [
    "X_train.to_csv('xtrain.csv', index=False)"
   ]
  },
  {
   "cell_type": "code",
   "execution_count": 16,
   "metadata": {
    "collapsed": true
   },
   "outputs": [],
   "source": [
    "X_test.to_csv('xtest.csv', index=False)"
   ]
  },
  {
   "cell_type": "code",
   "execution_count": 17,
   "metadata": {
    "collapsed": false
   },
   "outputs": [
    {
     "data": {
      "text/html": [
       "<div>\n",
       "<table border=\"1\" class=\"dataframe\">\n",
       "  <thead>\n",
       "    <tr style=\"text-align: right;\">\n",
       "      <th></th>\n",
       "      <th>Email_Type</th>\n",
       "      <th>Subject_Hotness_Score</th>\n",
       "      <th>Email_Source_Type</th>\n",
       "      <th>Customer_Location</th>\n",
       "      <th>Email_Campaign_Type</th>\n",
       "      <th>Total_Past_Communications</th>\n",
       "      <th>Time_Email_sent_Category</th>\n",
       "      <th>Word_Count</th>\n",
       "      <th>Total_Links</th>\n",
       "      <th>Total_Images</th>\n",
       "    </tr>\n",
       "  </thead>\n",
       "  <tbody>\n",
       "    <tr>\n",
       "      <th>Email_Type</th>\n",
       "      <td>1.000000</td>\n",
       "      <td>-0.235480</td>\n",
       "      <td>-0.275201</td>\n",
       "      <td>-0.003007</td>\n",
       "      <td>0.233565</td>\n",
       "      <td>-0.044495</td>\n",
       "      <td>-0.000581</td>\n",
       "      <td>0.077938</td>\n",
       "      <td>-0.159864</td>\n",
       "      <td>-0.107505</td>\n",
       "    </tr>\n",
       "    <tr>\n",
       "      <th>Subject_Hotness_Score</th>\n",
       "      <td>-0.235480</td>\n",
       "      <td>1.000000</td>\n",
       "      <td>0.006142</td>\n",
       "      <td>-0.006856</td>\n",
       "      <td>-0.550676</td>\n",
       "      <td>-0.419320</td>\n",
       "      <td>-0.003665</td>\n",
       "      <td>-0.237531</td>\n",
       "      <td>-0.027785</td>\n",
       "      <td>-0.020336</td>\n",
       "    </tr>\n",
       "    <tr>\n",
       "      <th>Email_Source_Type</th>\n",
       "      <td>-0.275201</td>\n",
       "      <td>0.006142</td>\n",
       "      <td>1.000000</td>\n",
       "      <td>-0.000620</td>\n",
       "      <td>0.035797</td>\n",
       "      <td>-0.066282</td>\n",
       "      <td>0.002137</td>\n",
       "      <td>0.048318</td>\n",
       "      <td>0.056770</td>\n",
       "      <td>0.038621</td>\n",
       "    </tr>\n",
       "    <tr>\n",
       "      <th>Customer_Location</th>\n",
       "      <td>-0.003007</td>\n",
       "      <td>-0.006856</td>\n",
       "      <td>-0.000620</td>\n",
       "      <td>1.000000</td>\n",
       "      <td>-0.001422</td>\n",
       "      <td>0.005786</td>\n",
       "      <td>0.002585</td>\n",
       "      <td>-0.003372</td>\n",
       "      <td>-0.000320</td>\n",
       "      <td>-0.000642</td>\n",
       "    </tr>\n",
       "    <tr>\n",
       "      <th>Email_Campaign_Type</th>\n",
       "      <td>0.233565</td>\n",
       "      <td>-0.550676</td>\n",
       "      <td>0.035797</td>\n",
       "      <td>-0.001422</td>\n",
       "      <td>1.000000</td>\n",
       "      <td>0.341066</td>\n",
       "      <td>0.001388</td>\n",
       "      <td>0.063540</td>\n",
       "      <td>0.004742</td>\n",
       "      <td>-0.008440</td>\n",
       "    </tr>\n",
       "    <tr>\n",
       "      <th>Total_Past_Communications</th>\n",
       "      <td>-0.044495</td>\n",
       "      <td>-0.419320</td>\n",
       "      <td>-0.066282</td>\n",
       "      <td>0.005786</td>\n",
       "      <td>0.341066</td>\n",
       "      <td>1.000000</td>\n",
       "      <td>-0.000790</td>\n",
       "      <td>-0.345251</td>\n",
       "      <td>0.106747</td>\n",
       "      <td>0.060909</td>\n",
       "    </tr>\n",
       "    <tr>\n",
       "      <th>Time_Email_sent_Category</th>\n",
       "      <td>-0.000581</td>\n",
       "      <td>-0.003665</td>\n",
       "      <td>0.002137</td>\n",
       "      <td>0.002585</td>\n",
       "      <td>0.001388</td>\n",
       "      <td>-0.000790</td>\n",
       "      <td>1.000000</td>\n",
       "      <td>-0.000508</td>\n",
       "      <td>-0.001964</td>\n",
       "      <td>0.000112</td>\n",
       "    </tr>\n",
       "    <tr>\n",
       "      <th>Word_Count</th>\n",
       "      <td>0.077938</td>\n",
       "      <td>-0.237531</td>\n",
       "      <td>0.048318</td>\n",
       "      <td>-0.003372</td>\n",
       "      <td>0.063540</td>\n",
       "      <td>-0.345251</td>\n",
       "      <td>-0.000508</td>\n",
       "      <td>1.000000</td>\n",
       "      <td>0.072257</td>\n",
       "      <td>0.050712</td>\n",
       "    </tr>\n",
       "    <tr>\n",
       "      <th>Total_Links</th>\n",
       "      <td>-0.159864</td>\n",
       "      <td>-0.027785</td>\n",
       "      <td>0.056770</td>\n",
       "      <td>-0.000320</td>\n",
       "      <td>0.004742</td>\n",
       "      <td>0.106747</td>\n",
       "      <td>-0.001964</td>\n",
       "      <td>0.072257</td>\n",
       "      <td>1.000000</td>\n",
       "      <td>0.756984</td>\n",
       "    </tr>\n",
       "    <tr>\n",
       "      <th>Total_Images</th>\n",
       "      <td>-0.107505</td>\n",
       "      <td>-0.020336</td>\n",
       "      <td>0.038621</td>\n",
       "      <td>-0.000642</td>\n",
       "      <td>-0.008440</td>\n",
       "      <td>0.060909</td>\n",
       "      <td>0.000112</td>\n",
       "      <td>0.050712</td>\n",
       "      <td>0.756984</td>\n",
       "      <td>1.000000</td>\n",
       "    </tr>\n",
       "  </tbody>\n",
       "</table>\n",
       "</div>"
      ],
      "text/plain": [
       "                           Email_Type  Subject_Hotness_Score  \\\n",
       "Email_Type                   1.000000              -0.235480   \n",
       "Subject_Hotness_Score       -0.235480               1.000000   \n",
       "Email_Source_Type           -0.275201               0.006142   \n",
       "Customer_Location           -0.003007              -0.006856   \n",
       "Email_Campaign_Type          0.233565              -0.550676   \n",
       "Total_Past_Communications   -0.044495              -0.419320   \n",
       "Time_Email_sent_Category    -0.000581              -0.003665   \n",
       "Word_Count                   0.077938              -0.237531   \n",
       "Total_Links                 -0.159864              -0.027785   \n",
       "Total_Images                -0.107505              -0.020336   \n",
       "\n",
       "                           Email_Source_Type  Customer_Location  \\\n",
       "Email_Type                         -0.275201          -0.003007   \n",
       "Subject_Hotness_Score               0.006142          -0.006856   \n",
       "Email_Source_Type                   1.000000          -0.000620   \n",
       "Customer_Location                  -0.000620           1.000000   \n",
       "Email_Campaign_Type                 0.035797          -0.001422   \n",
       "Total_Past_Communications          -0.066282           0.005786   \n",
       "Time_Email_sent_Category            0.002137           0.002585   \n",
       "Word_Count                          0.048318          -0.003372   \n",
       "Total_Links                         0.056770          -0.000320   \n",
       "Total_Images                        0.038621          -0.000642   \n",
       "\n",
       "                           Email_Campaign_Type  Total_Past_Communications  \\\n",
       "Email_Type                            0.233565                  -0.044495   \n",
       "Subject_Hotness_Score                -0.550676                  -0.419320   \n",
       "Email_Source_Type                     0.035797                  -0.066282   \n",
       "Customer_Location                    -0.001422                   0.005786   \n",
       "Email_Campaign_Type                   1.000000                   0.341066   \n",
       "Total_Past_Communications             0.341066                   1.000000   \n",
       "Time_Email_sent_Category              0.001388                  -0.000790   \n",
       "Word_Count                            0.063540                  -0.345251   \n",
       "Total_Links                           0.004742                   0.106747   \n",
       "Total_Images                         -0.008440                   0.060909   \n",
       "\n",
       "                           Time_Email_sent_Category  Word_Count  Total_Links  \\\n",
       "Email_Type                                -0.000581    0.077938    -0.159864   \n",
       "Subject_Hotness_Score                     -0.003665   -0.237531    -0.027785   \n",
       "Email_Source_Type                          0.002137    0.048318     0.056770   \n",
       "Customer_Location                          0.002585   -0.003372    -0.000320   \n",
       "Email_Campaign_Type                        0.001388    0.063540     0.004742   \n",
       "Total_Past_Communications                 -0.000790   -0.345251     0.106747   \n",
       "Time_Email_sent_Category                   1.000000   -0.000508    -0.001964   \n",
       "Word_Count                                -0.000508    1.000000     0.072257   \n",
       "Total_Links                               -0.001964    0.072257     1.000000   \n",
       "Total_Images                               0.000112    0.050712     0.756984   \n",
       "\n",
       "                           Total_Images  \n",
       "Email_Type                    -0.107505  \n",
       "Subject_Hotness_Score         -0.020336  \n",
       "Email_Source_Type              0.038621  \n",
       "Customer_Location             -0.000642  \n",
       "Email_Campaign_Type           -0.008440  \n",
       "Total_Past_Communications      0.060909  \n",
       "Time_Email_sent_Category       0.000112  \n",
       "Word_Count                     0.050712  \n",
       "Total_Links                    0.756984  \n",
       "Total_Images                   1.000000  "
      ]
     },
     "execution_count": 17,
     "metadata": {},
     "output_type": "execute_result"
    }
   ],
   "source": [
    "X_train.corr()"
   ]
  },
  {
   "cell_type": "code",
   "execution_count": 31,
   "metadata": {
    "collapsed": false
   },
   "outputs": [
    {
     "name": "stderr",
     "output_type": "stream",
     "text": [
      "/home/rishikesh/anaconda3/lib/python3.5/site-packages/sklearn/cross_validation.py:516: Warning: The least populated class in y has only 1 members, which is too few. The minimum number of labels for any class cannot be less than n_folds=3.\n",
      "  % (min_labels, self.n_folds)), Warning)\n"
     ]
    }
   ],
   "source": [
    "from sklearn.cross_validation import StratifiedKFold\n",
    "\n",
    "trainingData=StratifiedKFold(X_train.index)"
   ]
  },
  {
   "cell_type": "code",
   "execution_count": 23,
   "metadata": {
    "collapsed": false
   },
   "outputs": [
    {
     "name": "stderr",
     "output_type": "stream",
     "text": [
      "/home/rishikesh/anaconda3/lib/python3.5/site-packages/sklearn/cross_validation.py:516: Warning: The least populated class in y has only 1 members, which is too few. The minimum number of labels for any class cannot be less than n_folds=3.\n",
      "  % (min_labels, self.n_folds)), Warning)\n"
     ]
    }
   ],
   "source": [
    "trainingData1=StratifiedKFold(X_train.index,n_folds=3)"
   ]
  },
  {
   "cell_type": "code",
   "execution_count": 25,
   "metadata": {
    "collapsed": false
   },
   "outputs": [
    {
     "data": {
      "text/plain": [
       "sklearn.cross_validation.StratifiedKFold"
      ]
     },
     "execution_count": 25,
     "metadata": {},
     "output_type": "execute_result"
    }
   ],
   "source": [
    "type(trainingData1)"
   ]
  },
  {
   "cell_type": "code",
   "execution_count": 32,
   "metadata": {
    "collapsed": false
   },
   "outputs": [
    {
     "name": "stdout",
     "output_type": "stream",
     "text": [
      "(0,)\n",
      "(68353,)\n",
      "(68353,)\n"
     ]
    }
   ],
   "source": [
    "i=0\n",
    "xctrain=np.array\n",
    "for train_index, test_index in trainingData:\n",
    "    print(train_index.shape)"
   ]
  },
  {
   "cell_type": "code",
   "execution_count": 36,
   "metadata": {
    "collapsed": false
   },
   "outputs": [
    {
     "data": {
      "text/plain": [
       "Email_ID                 68353\n",
       "Email_Type               68353\n",
       "Subject_Hotness_Score    68353\n",
       "dtype: int64"
      ]
     },
     "execution_count": 36,
     "metadata": {},
     "output_type": "execute_result"
    }
   ],
   "source": [
    "train_df[train_df[\"Email_Status\"].unique()].count()"
   ]
  },
  {
   "cell_type": "code",
   "execution_count": 37,
   "metadata": {
    "collapsed": false
   },
   "outputs": [
    {
     "data": {
      "text/plain": [
       "0    54941\n",
       "1    11039\n",
       "2     2373\n",
       "Name: Email_Status, dtype: int64"
      ]
     },
     "execution_count": 37,
     "metadata": {},
     "output_type": "execute_result"
    }
   ],
   "source": [
    "train_df[\"Email_Status\"].value_counts()"
   ]
  },
  {
   "cell_type": "code",
   "execution_count": null,
   "metadata": {
    "collapsed": true
   },
   "outputs": [],
   "source": [
    "train_df[].Email_Status.value_counts()"
   ]
  },
  {
   "cell_type": "code",
   "execution_count": 68,
   "metadata": {
    "collapsed": false
   },
   "outputs": [],
   "source": [
    "train1=train_df.ix[0:34176,:]"
   ]
  },
  {
   "cell_type": "code",
   "execution_count": 69,
   "metadata": {
    "collapsed": true
   },
   "outputs": [],
   "source": [
    "train2=train_df.ix[34177:68353,:]"
   ]
  },
  {
   "cell_type": "code",
   "execution_count": 70,
   "metadata": {
    "collapsed": false
   },
   "outputs": [
    {
     "data": {
      "text/plain": [
       "(34177, 12)"
      ]
     },
     "execution_count": 70,
     "metadata": {},
     "output_type": "execute_result"
    }
   ],
   "source": [
    "train1.shape"
   ]
  },
  {
   "cell_type": "code",
   "execution_count": 71,
   "metadata": {
    "collapsed": false
   },
   "outputs": [
    {
     "data": {
      "text/html": [
       "<div>\n",
       "<table border=\"1\" class=\"dataframe\">\n",
       "  <thead>\n",
       "    <tr style=\"text-align: right;\">\n",
       "      <th></th>\n",
       "      <th>Email_ID</th>\n",
       "      <th>Email_Type</th>\n",
       "      <th>Subject_Hotness_Score</th>\n",
       "      <th>Email_Source_Type</th>\n",
       "      <th>Customer_Location</th>\n",
       "      <th>Email_Campaign_Type</th>\n",
       "      <th>Total_Past_Communications</th>\n",
       "      <th>Time_Email_sent_Category</th>\n",
       "      <th>Word_Count</th>\n",
       "      <th>Total_Links</th>\n",
       "      <th>Total_Images</th>\n",
       "      <th>Email_Status</th>\n",
       "    </tr>\n",
       "  </thead>\n",
       "  <tbody>\n",
       "    <tr>\n",
       "      <th>34172</th>\n",
       "      <td>57569</td>\n",
       "      <td>1</td>\n",
       "      <td>0.1</td>\n",
       "      <td>2</td>\n",
       "      <td>6</td>\n",
       "      <td>3</td>\n",
       "      <td>29.00000</td>\n",
       "      <td>3</td>\n",
       "      <td>757</td>\n",
       "      <td>11.0</td>\n",
       "      <td>0.0</td>\n",
       "      <td>0</td>\n",
       "    </tr>\n",
       "    <tr>\n",
       "      <th>34173</th>\n",
       "      <td>57570</td>\n",
       "      <td>1</td>\n",
       "      <td>1.4</td>\n",
       "      <td>2</td>\n",
       "      <td>6</td>\n",
       "      <td>2</td>\n",
       "      <td>28.93325</td>\n",
       "      <td>1</td>\n",
       "      <td>721</td>\n",
       "      <td>14.0</td>\n",
       "      <td>11.0</td>\n",
       "      <td>2</td>\n",
       "    </tr>\n",
       "    <tr>\n",
       "      <th>34174</th>\n",
       "      <td>57571</td>\n",
       "      <td>1</td>\n",
       "      <td>0.5</td>\n",
       "      <td>2</td>\n",
       "      <td>1</td>\n",
       "      <td>2</td>\n",
       "      <td>33.00000</td>\n",
       "      <td>1</td>\n",
       "      <td>812</td>\n",
       "      <td>15.0</td>\n",
       "      <td>11.0</td>\n",
       "      <td>0</td>\n",
       "    </tr>\n",
       "    <tr>\n",
       "      <th>34175</th>\n",
       "      <td>57572</td>\n",
       "      <td>1</td>\n",
       "      <td>0.2</td>\n",
       "      <td>2</td>\n",
       "      <td>4</td>\n",
       "      <td>3</td>\n",
       "      <td>18.00000</td>\n",
       "      <td>3</td>\n",
       "      <td>713</td>\n",
       "      <td>11.0</td>\n",
       "      <td>4.0</td>\n",
       "      <td>0</td>\n",
       "    </tr>\n",
       "    <tr>\n",
       "      <th>34176</th>\n",
       "      <td>57574</td>\n",
       "      <td>2</td>\n",
       "      <td>2.1</td>\n",
       "      <td>1</td>\n",
       "      <td>8</td>\n",
       "      <td>2</td>\n",
       "      <td>17.00000</td>\n",
       "      <td>1</td>\n",
       "      <td>542</td>\n",
       "      <td>3.0</td>\n",
       "      <td>0.0</td>\n",
       "      <td>0</td>\n",
       "    </tr>\n",
       "  </tbody>\n",
       "</table>\n",
       "</div>"
      ],
      "text/plain": [
       "       Email_ID  Email_Type  Subject_Hotness_Score  Email_Source_Type  \\\n",
       "34172     57569           1                    0.1                  2   \n",
       "34173     57570           1                    1.4                  2   \n",
       "34174     57571           1                    0.5                  2   \n",
       "34175     57572           1                    0.2                  2   \n",
       "34176     57574           2                    2.1                  1   \n",
       "\n",
       "       Customer_Location  Email_Campaign_Type  Total_Past_Communications  \\\n",
       "34172                  6                    3                   29.00000   \n",
       "34173                  6                    2                   28.93325   \n",
       "34174                  1                    2                   33.00000   \n",
       "34175                  4                    3                   18.00000   \n",
       "34176                  8                    2                   17.00000   \n",
       "\n",
       "       Time_Email_sent_Category  Word_Count  Total_Links  Total_Images  \\\n",
       "34172                         3         757         11.0           0.0   \n",
       "34173                         1         721         14.0          11.0   \n",
       "34174                         1         812         15.0          11.0   \n",
       "34175                         3         713         11.0           4.0   \n",
       "34176                         1         542          3.0           0.0   \n",
       "\n",
       "       Email_Status  \n",
       "34172             0  \n",
       "34173             2  \n",
       "34174             0  \n",
       "34175             0  \n",
       "34176             0  "
      ]
     },
     "execution_count": 71,
     "metadata": {},
     "output_type": "execute_result"
    }
   ],
   "source": [
    "train1.tail()"
   ]
  },
  {
   "cell_type": "code",
   "execution_count": 73,
   "metadata": {
    "collapsed": false
   },
   "outputs": [
    {
     "data": {
      "text/html": [
       "<div>\n",
       "<table border=\"1\" class=\"dataframe\">\n",
       "  <thead>\n",
       "    <tr style=\"text-align: right;\">\n",
       "      <th></th>\n",
       "      <th>Email_ID</th>\n",
       "      <th>Email_Type</th>\n",
       "      <th>Subject_Hotness_Score</th>\n",
       "      <th>Email_Source_Type</th>\n",
       "      <th>Customer_Location</th>\n",
       "      <th>Email_Campaign_Type</th>\n",
       "      <th>Total_Past_Communications</th>\n",
       "      <th>Time_Email_sent_Category</th>\n",
       "      <th>Word_Count</th>\n",
       "      <th>Total_Links</th>\n",
       "      <th>Total_Images</th>\n",
       "      <th>Email_Status</th>\n",
       "    </tr>\n",
       "  </thead>\n",
       "  <tbody>\n",
       "    <tr>\n",
       "      <th>34177</th>\n",
       "      <td>57575</td>\n",
       "      <td>1</td>\n",
       "      <td>2.6</td>\n",
       "      <td>2</td>\n",
       "      <td>3</td>\n",
       "      <td>2</td>\n",
       "      <td>28.0</td>\n",
       "      <td>2</td>\n",
       "      <td>520</td>\n",
       "      <td>8.0</td>\n",
       "      <td>0.0</td>\n",
       "      <td>0</td>\n",
       "    </tr>\n",
       "    <tr>\n",
       "      <th>34178</th>\n",
       "      <td>57577</td>\n",
       "      <td>1</td>\n",
       "      <td>0.3</td>\n",
       "      <td>1</td>\n",
       "      <td>1</td>\n",
       "      <td>3</td>\n",
       "      <td>22.0</td>\n",
       "      <td>1</td>\n",
       "      <td>251</td>\n",
       "      <td>9.0</td>\n",
       "      <td>0.0</td>\n",
       "      <td>0</td>\n",
       "    </tr>\n",
       "    <tr>\n",
       "      <th>34179</th>\n",
       "      <td>57578</td>\n",
       "      <td>1</td>\n",
       "      <td>0.4</td>\n",
       "      <td>2</td>\n",
       "      <td>8</td>\n",
       "      <td>2</td>\n",
       "      <td>33.0</td>\n",
       "      <td>2</td>\n",
       "      <td>700</td>\n",
       "      <td>11.0</td>\n",
       "      <td>0.0</td>\n",
       "      <td>0</td>\n",
       "    </tr>\n",
       "    <tr>\n",
       "      <th>34180</th>\n",
       "      <td>57579</td>\n",
       "      <td>1</td>\n",
       "      <td>1.6</td>\n",
       "      <td>2</td>\n",
       "      <td>4</td>\n",
       "      <td>2</td>\n",
       "      <td>22.0</td>\n",
       "      <td>2</td>\n",
       "      <td>827</td>\n",
       "      <td>14.0</td>\n",
       "      <td>9.0</td>\n",
       "      <td>0</td>\n",
       "    </tr>\n",
       "    <tr>\n",
       "      <th>34181</th>\n",
       "      <td>57580</td>\n",
       "      <td>1</td>\n",
       "      <td>2.2</td>\n",
       "      <td>1</td>\n",
       "      <td>8</td>\n",
       "      <td>2</td>\n",
       "      <td>12.0</td>\n",
       "      <td>2</td>\n",
       "      <td>694</td>\n",
       "      <td>14.0</td>\n",
       "      <td>0.0</td>\n",
       "      <td>0</td>\n",
       "    </tr>\n",
       "  </tbody>\n",
       "</table>\n",
       "</div>"
      ],
      "text/plain": [
       "       Email_ID  Email_Type  Subject_Hotness_Score  Email_Source_Type  \\\n",
       "34177     57575           1                    2.6                  2   \n",
       "34178     57577           1                    0.3                  1   \n",
       "34179     57578           1                    0.4                  2   \n",
       "34180     57579           1                    1.6                  2   \n",
       "34181     57580           1                    2.2                  1   \n",
       "\n",
       "       Customer_Location  Email_Campaign_Type  Total_Past_Communications  \\\n",
       "34177                  3                    2                       28.0   \n",
       "34178                  1                    3                       22.0   \n",
       "34179                  8                    2                       33.0   \n",
       "34180                  4                    2                       22.0   \n",
       "34181                  8                    2                       12.0   \n",
       "\n",
       "       Time_Email_sent_Category  Word_Count  Total_Links  Total_Images  \\\n",
       "34177                         2         520          8.0           0.0   \n",
       "34178                         1         251          9.0           0.0   \n",
       "34179                         2         700         11.0           0.0   \n",
       "34180                         2         827         14.0           9.0   \n",
       "34181                         2         694         14.0           0.0   \n",
       "\n",
       "       Email_Status  \n",
       "34177             0  \n",
       "34178             0  \n",
       "34179             0  \n",
       "34180             0  \n",
       "34181             0  "
      ]
     },
     "execution_count": 73,
     "metadata": {},
     "output_type": "execute_result"
    }
   ],
   "source": [
    "train2.head()"
   ]
  },
  {
   "cell_type": "code",
   "execution_count": null,
   "metadata": {
    "collapsed": true
   },
   "outputs": [],
   "source": []
  }
 ],
 "metadata": {
  "kernelspec": {
   "display_name": "Python 3",
   "language": "python",
   "name": "python3"
  },
  "language_info": {
   "codemirror_mode": {
    "name": "ipython",
    "version": 3
   },
   "file_extension": ".py",
   "mimetype": "text/x-python",
   "name": "python",
   "nbconvert_exporter": "python",
   "pygments_lexer": "ipython3",
   "version": "3.5.1"
  }
 },
 "nbformat": 4,
 "nbformat_minor": 0
}
